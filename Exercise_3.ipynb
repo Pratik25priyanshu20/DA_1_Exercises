{
  "nbformat": 4,
  "nbformat_minor": 0,
  "metadata": {
    "colab": {
      "provenance": [],
      "authorship_tag": "ABX9TyNhdsYYMKpDIESr6eB0z9st",
      "include_colab_link": true
    },
    "kernelspec": {
      "name": "python3",
      "display_name": "Python 3"
    },
    "language_info": {
      "name": "python"
    }
  },
  "cells": [
    {
      "cell_type": "markdown",
      "metadata": {
        "id": "view-in-github",
        "colab_type": "text"
      },
      "source": [
        "<a href=\"https://colab.research.google.com/github/Pratik25priyanshu20/DA_1_Exercises/blob/main/Exercise_3.ipynb\" target=\"_parent\"><img src=\"https://colab.research.google.com/assets/colab-badge.svg\" alt=\"Open In Colab\"/></a>"
      ]
    },
    {
      "cell_type": "code",
      "execution_count": null,
      "metadata": {
        "id": "uWtC5G4Xllq5"
      },
      "outputs": [],
      "source": []
    },
    {
      "cell_type": "code",
      "source": [
        "#EXERCISE_3\n",
        "\n",
        "import pandas as pd\n",
        "import numpy as np\n",
        "import seaborn as sns\n",
        "import matplotlib.pyplot as plt\n",
        "from scipy.stats import ttest_1samp, f_oneway, norm,pearsonr,ttest_ind\n",
        "from sklearn.datasets import load_iris\n",
        "\n",
        "\n",
        "\n",
        "#iris= sns.load_dataset(\"iris\")\n",
        "iris = load_iris()\n",
        "\n",
        "#versicolor_data = iris[iris['species'] == 'versicolor']['sepal_length']\n",
        "\n",
        "iris_df = pd.DataFrame(iris.data, columns = iris.feature_names)\n",
        "iris_df['species']= [iris.target_names[i] for i in iris.target]\n",
        "\n",
        "iris_df.columns =['sepal_length','sepal_width','petal_length','petal_width','species']\n",
        "\n",
        "versicolor_petal_length  = iris_df[iris_df['species']=='versicolor']['petal_length']\n",
        "virginica_petal_length = iris_df[iris_df['species']=='virginica']['petal_length']\n",
        "\n",
        "t_stat, p_value = ttest_1samp(versicolor_petal_length, virginica_petal_length.mean())\n",
        "#why not ttest_ind?\n",
        "print(f\"T-statistics: {t_stat}\")\n",
        "print(f\"P-Value: {p_value}\")\n",
        "\n",
        "\n",
        "\n",
        "\n",
        "\n",
        "if p_value < 0.05:\n",
        "    print(\"Reject the null hypothesis: There is a significant difference in petal length between versicolor and virginica.\")\n",
        "else:\n",
        "    print(\"Fail to reject the null hypothesis: There is no significant difference in petal length between versicolor and virginica.\")\n",
        "\n",
        "    sample_mean = np.mean(versicolor_petal_length)\n",
        "    std_dev = 0.35\n",
        "    n= len(versicolor_petal_length)\n",
        "\n",
        "    confidence_level = 0.95\n",
        "    #z_value = stats.norm.ppf(1 - (1 - 0.95) / 2)\n",
        "    margin_of_error = 1.96 * (std_dev / np.sqrt(n))\n",
        "    confidence_interval = (sample_mean - margin_of_error, sample_mean + margin_of_error)\n",
        "\n",
        "    print(f\"Sample Mean: {sample_mean:.2f}\")\n",
        "    print(f\"Sample Standard Deviation: {std_dev:.3f}\")\n",
        "\n",
        "\n",
        "\n",
        "\n",
        "\n",
        "    setosa_petal_width= iris_df[iris_df['species']=='setosa']['petal_width']\n",
        "    versicolor_petal_width=iris_df[iris_df['species']=='versicolor']['petal_width']\n",
        "    virginica_petal_width=iris_df[iris_df['species']=='virginica']['petal_width']\n",
        "\n",
        "    f_stat, p_value = f_oneway(setosa_petal_width, versicolor_petal_width, virginica_petal_width)\n",
        "\n",
        "    print(f\"F-statistics: {f_stat}\")\n",
        "    print(f\"P-Value: {p_value}\")\n",
        "\n",
        "    if p_value < 0.05:\n",
        "        print(\"Reject the null hypothesis: There is a significant difference in petal width between the three species.\")\n",
        "    else:\n",
        "        print(\"Fail to reject the null hypothesis: There is no significant difference in petal width between the three species.\")\n",
        "\n",
        "\n",
        "\n",
        "\n",
        "sepal_length = iris_df['sepal_length']\n",
        "petal_length = iris_df['petal_length']\n",
        "\n",
        "\n",
        "corr_coeff, corr_p_value = pearsonr(iris_df['sepal_length'],iris_df['petal_length'])\n",
        "\n",
        "print(f\"Correlation Coefficient: {corr_coeff}\")\n",
        "print(f\"P-Value: {corr_p_value}\")\n",
        "\n",
        "#corr=iris.iloc[:,:-1].corr()\n",
        "#sns.heatmap(corr,annot=True,cmap=\"coolwarm\")\n",
        "#plt.title(\"correlation heatmap\")\n",
        "\n",
        "#plt.show()\n",
        "\n",
        "\n"
      ],
      "metadata": {
        "colab": {
          "base_uri": "https://localhost:8080/"
        },
        "id": "dTTPAau9I_Oq",
        "outputId": "cda602cd-61b4-4f98-c974-38f78eb6e63c"
      },
      "execution_count": null,
      "outputs": [
        {
          "output_type": "stream",
          "name": "stdout",
          "text": [
            "T-statistics: -19.441596505341977\n",
            "P-Value: 1.1089855795912826e-24\n",
            "Reject the null hypothesis: There is a significant difference in petal length between versicolor and virginica.\n",
            "Correlation Coefficient: 0.8717537758865831\n",
            "P-Value: 1.0386674194498827e-47\n"
          ]
        }
      ]
    }
  ]
}