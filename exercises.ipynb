{
  "nbformat": 4,
  "nbformat_minor": 0,
  "metadata": {
    "colab": {
      "provenance": [],
      "authorship_tag": "ABX9TyMYW8vaD1HOfN2A66m+x1Mp",
      "include_colab_link": true
    },
    "kernelspec": {
      "name": "python3",
      "display_name": "Python 3"
    },
    "language_info": {
      "name": "python"
    }
  },
  "cells": [
    {
      "cell_type": "markdown",
      "metadata": {
        "id": "view-in-github",
        "colab_type": "text"
      },
      "source": [
        "<a href=\"https://colab.research.google.com/github/Pratik25priyanshu20/DA_1_Exercises/blob/main/exercises.ipynb\" target=\"_parent\"><img src=\"https://colab.research.google.com/assets/colab-badge.svg\" alt=\"Open In Colab\"/></a>"
      ]
    },
    {
      "cell_type": "code",
      "source": [
        "#EXERCISE_3\n",
        "\n",
        "import pandas as pd\n",
        "import numpy as np\n",
        "import seaborn as sns\n",
        "import matplotlib.pyplot as plt\n",
        "from scipy.stats import ttest_1samp, f_oneway, norm,pearsonr,ttest_ind\n",
        "from sklearn.datasets import load_iris\n",
        "\n",
        "\n",
        "\n",
        "#iris= sns.load_dataset(\"iris\")\n",
        "iris = load_iris()\n",
        "\n",
        "#versicolor_data = iris[iris['species'] == 'versicolor']['sepal_length']\n",
        "\n",
        "iris_df = pd.DataFrame(iris.data, columns = iris.feature_names)\n",
        "iris_df['species']= [iris.target_names[i] for i in iris.target]\n",
        "\n",
        "iris_df.columns =['sepal_length','sepal_width','petal_length','petal_width','species']\n",
        "\n",
        "versicolor_petal_length  = iris_df[iris_df['species']=='versicolor']['petal_length']\n",
        "virginica_petal_length = iris_df[iris_df['species']=='virginica']['petal_length']\n",
        "\n",
        "t_stat, p_value = ttest_1samp(versicolor_petal_length, virginica_petal_length.mean())\n",
        "#why not ttest_ind?\n",
        "print(f\"T-statistics: {t_stat}\")\n",
        "print(f\"P-Value: {p_value}\")\n",
        "\n",
        "\n",
        "\n",
        "\n",
        "\n",
        "if p_value < 0.05:\n",
        "    print(\"Reject the null hypothesis: There is a significant difference in petal length between versicolor and virginica.\")\n",
        "else:\n",
        "    print(\"Fail to reject the null hypothesis: There is no significant difference in petal length between versicolor and virginica.\")\n",
        "\n",
        "    sample_mean = np.mean(versicolor_petal_length)\n",
        "    std_dev = 0.35\n",
        "    n= len(versicolor_petal_length)\n",
        "\n",
        "    confidence_level = 0.95\n",
        "    #z_value = stats.norm.ppf(1 - (1 - 0.95) / 2)\n",
        "    margin_of_error = 1.96 * (std_dev / np.sqrt(n))\n",
        "    confidence_interval = (sample_mean - margin_of_error, sample_mean + margin_of_error)\n",
        "\n",
        "    print(f\"Sample Mean: {sample_mean:.2f}\")\n",
        "    print(f\"Sample Standard Deviation: {std_dev:.3f}\")\n",
        "\n",
        "\n",
        "\n",
        "\n",
        "\n",
        "    setosa_petal_width= iris_df[iris_df['species']=='setosa']['petal_width']\n",
        "    versicolor_petal_width=iris_df[iris_df['species']=='versicolor']['petal_width']\n",
        "    virginica_petal_width=iris_df[iris_df['species']=='virginica']['petal_width']\n",
        "\n",
        "    f_stat, p_value = f_oneway(setosa_petal_width, versicolor_petal_width, virginica_petal_width)\n",
        "\n",
        "    print(f\"F-statistics: {f_stat}\")\n",
        "    print(f\"P-Value: {p_value}\")\n",
        "\n",
        "    if p_value < 0.05:\n",
        "        print(\"Reject the null hypothesis: There is a significant difference in petal width between the three species.\")\n",
        "    else:\n",
        "        print(\"Fail to reject the null hypothesis: There is no significant difference in petal width between the three species.\")\n",
        "\n",
        "\n",
        "\n",
        "\n",
        "sepal_length = iris_df['sepal_length']\n",
        "petal_length = iris_df['petal_length']\n",
        "\n",
        "\n",
        "corr_coeff, corr_p_value = pearsonr(iris_df['sepal_length'],iris_df['petal_length'])\n",
        "\n",
        "print(f\"Correlation Coefficient: {corr_coeff}\")\n",
        "print(f\"P-Value: {corr_p_value}\")\n",
        "\n",
        "#corr=iris.iloc[:,:-1].corr()\n",
        "#sns.heatmap(corr,annot=True,cmap=\"coolwarm\")\n",
        "#plt.title(\"correlation heatmap\")\n",
        "\n",
        "#plt.show()\n",
        "\n",
        "\n"
      ],
      "metadata": {
        "colab": {
          "base_uri": "https://localhost:8080/"
        },
        "id": "dTTPAau9I_Oq",
        "outputId": "cda602cd-61b4-4f98-c974-38f78eb6e63c"
      },
      "execution_count": null,
      "outputs": [
        {
          "output_type": "stream",
          "name": "stdout",
          "text": [
            "T-statistics: -19.441596505341977\n",
            "P-Value: 1.1089855795912826e-24\n",
            "Reject the null hypothesis: There is a significant difference in petal length between versicolor and virginica.\n",
            "Correlation Coefficient: 0.8717537758865831\n",
            "P-Value: 1.0386674194498827e-47\n"
          ]
        }
      ]
    },
    {
      "cell_type": "code",
      "source": [],
      "metadata": {
        "id": "GPXKxit-AixH"
      },
      "execution_count": null,
      "outputs": []
    },
    {
      "cell_type": "markdown",
      "source": [
        "#Exercise 4"
      ],
      "metadata": {
        "id": "5rQzG0_jMWSj"
      }
    },
    {
      "cell_type": "code",
      "source": [
        "#Exercise 4\n",
        "\n",
        "import numpy as np\n",
        "import pandas as pd\n",
        "from sklearn.linear_model import Lasso\n",
        "from sklearn.model_selection import train_test_split\n",
        "import matplotlib.pyplot as plt\n",
        "from sklearn.preprocessing import StandardScaler, MinMaxScaler\n",
        "\n",
        "!pip install ucimlrepo\n",
        "\n",
        "\n",
        "\n",
        "from ucimlrepo import fetch_ucirepo\n",
        "\n",
        "# fetch dataset\n",
        "student_performance = fetch_ucirepo(id=320)\n",
        "\n",
        "# data (as pandas dataframes)\n",
        "X = student_performance.data.features\n",
        "Y = student_performance.data.targets\n",
        "\n",
        "# metadata\n",
        "print(student_performance.metadata)\n",
        "\n",
        "# variable information\n",
        "print(student_performance.variables)\n",
        "\n",
        "\n",
        "\n",
        "\n",
        "\n",
        "\n",
        "\n",
        "\n",
        "\n",
        "\n"
      ],
      "metadata": {
        "colab": {
          "base_uri": "https://localhost:8080/"
        },
        "id": "fJQeRa5lMV7L",
        "outputId": "986a1457-4e35-4bbd-ecb5-2a7067872313"
      },
      "execution_count": 44,
      "outputs": [
        {
          "output_type": "stream",
          "name": "stdout",
          "text": [
            "Requirement already satisfied: ucimlrepo in /usr/local/lib/python3.10/dist-packages (0.0.7)\n",
            "Requirement already satisfied: pandas>=1.0.0 in /usr/local/lib/python3.10/dist-packages (from ucimlrepo) (2.2.2)\n",
            "Requirement already satisfied: certifi>=2020.12.5 in /usr/local/lib/python3.10/dist-packages (from ucimlrepo) (2024.8.30)\n",
            "Requirement already satisfied: numpy>=1.22.4 in /usr/local/lib/python3.10/dist-packages (from pandas>=1.0.0->ucimlrepo) (1.26.4)\n",
            "Requirement already satisfied: python-dateutil>=2.8.2 in /usr/local/lib/python3.10/dist-packages (from pandas>=1.0.0->ucimlrepo) (2.8.2)\n",
            "Requirement already satisfied: pytz>=2020.1 in /usr/local/lib/python3.10/dist-packages (from pandas>=1.0.0->ucimlrepo) (2024.2)\n",
            "Requirement already satisfied: tzdata>=2022.7 in /usr/local/lib/python3.10/dist-packages (from pandas>=1.0.0->ucimlrepo) (2024.2)\n",
            "Requirement already satisfied: six>=1.5 in /usr/local/lib/python3.10/dist-packages (from python-dateutil>=2.8.2->pandas>=1.0.0->ucimlrepo) (1.16.0)\n"
          ]
        }
      ]
    },
    {
      "cell_type": "code",
      "source": [],
      "metadata": {
        "colab": {
          "base_uri": "https://localhost:8080/"
        },
        "id": "tuCxBxMJMkvl",
        "outputId": "e5fe5189-9d35-4a39-ea07-5a114a6ee0c0"
      },
      "execution_count": null,
      "outputs": [
        {
          "output_type": "stream",
          "name": "stdout",
          "text": [
            "{'uci_id': 320, 'name': 'Student Performance', 'repository_url': 'https://archive.ics.uci.edu/dataset/320/student+performance', 'data_url': 'https://archive.ics.uci.edu/static/public/320/data.csv', 'abstract': 'Predict student performance in secondary education (high school). ', 'area': 'Social Science', 'tasks': ['Classification', 'Regression'], 'characteristics': ['Multivariate'], 'num_instances': 649, 'num_features': 30, 'feature_types': ['Integer'], 'demographics': ['Sex', 'Age', 'Other', 'Education Level', 'Occupation'], 'target_col': ['G1', 'G2', 'G3'], 'index_col': None, 'has_missing_values': 'no', 'missing_values_symbol': None, 'year_of_dataset_creation': 2008, 'last_updated': 'Fri Jan 05 2024', 'dataset_doi': '10.24432/C5TG7T', 'creators': ['Paulo Cortez'], 'intro_paper': {'ID': 360, 'type': 'NATIVE', 'title': 'Using data mining to predict secondary school student performance', 'authors': 'P. Cortez, A. M. G. Silva', 'venue': 'Proceedings of 5th Annual Future Business Technology Conference', 'year': 2008, 'journal': None, 'DOI': None, 'URL': 'https://www.semanticscholar.org/paper/61d468d5254730bbecf822c6b60d7d6595d9889c', 'sha': None, 'corpus': '16621299', 'arxiv': None, 'mag': None, 'acl': None, 'pmid': None, 'pmcid': None}, 'additional_info': {'summary': 'This data approach student achievement in secondary education of two Portuguese schools. The data attributes include student grades, demographic, social and school related features) and it was collected by using school reports and questionnaires. Two datasets are provided regarding the performance in two distinct subjects: Mathematics (mat) and Portuguese language (por). In [Cortez and Silva, 2008], the two datasets were modeled under binary/five-level classification and regression tasks. Important note: the target attribute G3 has a strong correlation with attributes G2 and G1. This occurs because G3 is the final year grade (issued at the 3rd period), while G1 and G2 correspond to the 1st and 2nd period grades. It is more difficult to predict G3 without G2 and G1, but such prediction is much more useful (see paper source for more details).', 'purpose': None, 'funded_by': None, 'instances_represent': None, 'recommended_data_splits': None, 'sensitive_data': None, 'preprocessing_description': None, 'variable_info': \"# Attributes for both student-mat.csv (Math course) and student-por.csv (Portuguese language course) datasets:\\r\\n1 school - student's school (binary: 'GP' - Gabriel Pereira or 'MS' - Mousinho da Silveira)\\r\\n2 sex - student's sex (binary: 'F' - female or 'M' - male)\\r\\n3 age - student's age (numeric: from 15 to 22)\\r\\n4 address - student's home address type (binary: 'U' - urban or 'R' - rural)\\r\\n5 famsize - family size (binary: 'LE3' - less or equal to 3 or 'GT3' - greater than 3)\\r\\n6 Pstatus - parent's cohabitation status (binary: 'T' - living together or 'A' - apart)\\r\\n7 Medu - mother's education (numeric: 0 - none,  1 - primary education (4th grade), 2 â€“ 5th to 9th grade, 3 â€“ secondary education or 4 â€“ higher education)\\r\\n8 Fedu - father's education (numeric: 0 - none,  1 - primary education (4th grade), 2 â€“ 5th to 9th grade, 3 â€“ secondary education or 4 â€“ higher education)\\r\\n9 Mjob - mother's job (nominal: 'teacher', 'health' care related, civil 'services' (e.g. administrative or police), 'at_home' or 'other')\\r\\n10 Fjob - father's job (nominal: 'teacher', 'health' care related, civil 'services' (e.g. administrative or police), 'at_home' or 'other')\\r\\n11 reason - reason to choose this school (nominal: close to 'home', school 'reputation', 'course' preference or 'other')\\r\\n12 guardian - student's guardian (nominal: 'mother', 'father' or 'other')\\r\\n13 traveltime - home to school travel time (numeric: 1 - <15 min., 2 - 15 to 30 min., 3 - 30 min. to 1 hour, or 4 - >1 hour)\\r\\n14 studytime - weekly study time (numeric: 1 - <2 hours, 2 - 2 to 5 hours, 3 - 5 to 10 hours, or 4 - >10 hours)\\r\\n15 failures - number of past class failures (numeric: n if 1<=n<3, else 4)\\r\\n16 schoolsup - extra educational support (binary: yes or no)\\r\\n17 famsup - family educational support (binary: yes or no)\\r\\n18 paid - extra paid classes within the course subject (Math or Portuguese) (binary: yes or no)\\r\\n19 activities - extra-curricular activities (binary: yes or no)\\r\\n20 nursery - attended nursery school (binary: yes or no)\\r\\n21 higher - wants to take higher education (binary: yes or no)\\r\\n22 internet - Internet access at home (binary: yes or no)\\r\\n23 romantic - with a romantic relationship (binary: yes or no)\\r\\n24 famrel - quality of family relationships (numeric: from 1 - very bad to 5 - excellent)\\r\\n25 freetime - free time after school (numeric: from 1 - very low to 5 - very high)\\r\\n26 goout - going out with friends (numeric: from 1 - very low to 5 - very high)\\r\\n27 Dalc - workday alcohol consumption (numeric: from 1 - very low to 5 - very high)\\r\\n28 Walc - weekend alcohol consumption (numeric: from 1 - very low to 5 - very high)\\r\\n29 health - current health status (numeric: from 1 - very bad to 5 - very good)\\r\\n30 absences - number of school absences (numeric: from 0 to 93)\\r\\n\\r\\n# these grades are related with the course subject, Math or Portuguese:\\r\\n31 G1 - first period grade (numeric: from 0 to 20)\\r\\n31 G2 - second period grade (numeric: from 0 to 20)\\r\\n32 G3 - final grade (numeric: from 0 to 20, output target)\", 'citation': None}}\n",
            "          name     role         type      demographic  \\\n",
            "0       school  Feature  Categorical             None   \n",
            "1          sex  Feature       Binary              Sex   \n",
            "2          age  Feature      Integer              Age   \n",
            "3      address  Feature  Categorical             None   \n",
            "4      famsize  Feature  Categorical            Other   \n",
            "5      Pstatus  Feature  Categorical            Other   \n",
            "6         Medu  Feature      Integer  Education Level   \n",
            "7         Fedu  Feature      Integer  Education Level   \n",
            "8         Mjob  Feature  Categorical       Occupation   \n",
            "9         Fjob  Feature  Categorical       Occupation   \n",
            "10      reason  Feature  Categorical             None   \n",
            "11    guardian  Feature  Categorical             None   \n",
            "12  traveltime  Feature      Integer             None   \n",
            "13   studytime  Feature      Integer             None   \n",
            "14    failures  Feature      Integer             None   \n",
            "15   schoolsup  Feature       Binary             None   \n",
            "16      famsup  Feature       Binary             None   \n",
            "17        paid  Feature       Binary             None   \n",
            "18  activities  Feature       Binary             None   \n",
            "19     nursery  Feature       Binary             None   \n",
            "20      higher  Feature       Binary             None   \n",
            "21    internet  Feature       Binary             None   \n",
            "22    romantic  Feature       Binary             None   \n",
            "23      famrel  Feature      Integer             None   \n",
            "24    freetime  Feature      Integer             None   \n",
            "25       goout  Feature      Integer             None   \n",
            "26        Dalc  Feature      Integer             None   \n",
            "27        Walc  Feature      Integer             None   \n",
            "28      health  Feature      Integer             None   \n",
            "29    absences  Feature      Integer             None   \n",
            "30          G1   Target  Categorical             None   \n",
            "31          G2   Target  Categorical             None   \n",
            "32          G3   Target      Integer             None   \n",
            "\n",
            "                                          description units missing_values  \n",
            "0   student's school (binary: 'GP' - Gabriel Perei...  None             no  \n",
            "1   student's sex (binary: 'F' - female or 'M' - m...  None             no  \n",
            "2              student's age (numeric: from 15 to 22)  None             no  \n",
            "3   student's home address type (binary: 'U' - urb...  None             no  \n",
            "4   family size (binary: 'LE3' - less or equal to ...  None             no  \n",
            "5   parent's cohabitation status (binary: 'T' - li...  None             no  \n",
            "6   mother's education (numeric: 0 - none,  1 - pr...  None             no  \n",
            "7   father's education (numeric: 0 - none,  1 - pr...  None             no  \n",
            "8   mother's job (nominal: 'teacher', 'health' car...  None             no  \n",
            "9   father's job (nominal: 'teacher', 'health' car...  None             no  \n",
            "10  reason to choose this school (nominal: close t...  None             no  \n",
            "11  student's guardian (nominal: 'mother', 'father...  None             no  \n",
            "12  home to school travel time (numeric: 1 - <15 m...  None             no  \n",
            "13  weekly study time (numeric: 1 - <2 hours, 2 - ...  None             no  \n",
            "14  number of past class failures (numeric: n if 1...  None             no  \n",
            "15      extra educational support (binary: yes or no)  None             no  \n",
            "16     family educational support (binary: yes or no)  None             no  \n",
            "17  extra paid classes within the course subject (...  None             no  \n",
            "18    extra-curricular activities (binary: yes or no)  None             no  \n",
            "19        attended nursery school (binary: yes or no)  None             no  \n",
            "20  wants to take higher education (binary: yes or...  None             no  \n",
            "21        Internet access at home (binary: yes or no)  None             no  \n",
            "22   with a romantic relationship (binary: yes or no)  None             no  \n",
            "23  quality of family relationships (numeric: from...  None             no  \n",
            "24  free time after school (numeric: from 1 - very...  None             no  \n",
            "25  going out with friends (numeric: from 1 - very...  None             no  \n",
            "26  workday alcohol consumption (numeric: from 1 -...  None             no  \n",
            "27  weekend alcohol consumption (numeric: from 1 -...  None             no  \n",
            "28  current health status (numeric: from 1 - very ...  None             no  \n",
            "29  number of school absences (numeric: from 0 to 93)  None             no  \n",
            "30         first period grade (numeric: from 0 to 20)  None             no  \n",
            "31        second period grade (numeric: from 0 to 20)  None             no  \n",
            "32  final grade (numeric: from 0 to 20, output tar...  None             no  \n"
          ]
        }
      ]
    },
    {
      "cell_type": "code",
      "source": [
        "print(\"/n missing values in feature :\")\n",
        "print(X.isnull().sum())\n",
        "\n",
        "\n",
        "print(\"/n missing values in target:\")\n",
        "print(Y.isnull().sum())\n",
        "\n",
        "\n",
        "\n",
        "\n",
        "#this data set had no missing values , no imputing needed\n",
        "\n",
        "scaler_standard = StandardScaler()\n",
        "scaler_minmax = MinMaxScaler()\n",
        "\n",
        "X_numerical = X.select_dtypes(include=[np.number])\n",
        "\n",
        "\n",
        "X_scaled_standard = pd.DataFrame(scaler_standard.fit_transform(X_numerical), columns = X_numerical.columns)\n",
        "X_scaled_minmax = pd.DataFrame(scaler_minmax.fit_transform(X_numerical), columns = X_numerical.columns)\n",
        "\n",
        "print(\"Standardized Data :\")\n",
        "print(X_scaled_standard.head())\n",
        "\n",
        "print(\"\\n Normalised Data :\")\n",
        "print(X_scaled_minmax.head())"
      ],
      "metadata": {
        "colab": {
          "base_uri": "https://localhost:8080/"
        },
        "id": "LGQqQ56LNGjx",
        "outputId": "a691485f-b1b3-4344-ae25-afd2ac7f349c"
      },
      "execution_count": 45,
      "outputs": [
        {
          "output_type": "stream",
          "name": "stdout",
          "text": [
            "/n missing values in feature :\n",
            "school                 0\n",
            "sex                    0\n",
            "age                    0\n",
            "address                0\n",
            "famsize                0\n",
            "Pstatus                0\n",
            "Medu                   0\n",
            "Fedu                   0\n",
            "Mjob                   0\n",
            "Fjob                   0\n",
            "reason                 0\n",
            "guardian               0\n",
            "traveltime             0\n",
            "studytime              0\n",
            "failures               0\n",
            "schoolsup              0\n",
            "famsup                 0\n",
            "paid                   0\n",
            "activities             0\n",
            "nursery                0\n",
            "higher                 0\n",
            "internet               0\n",
            "romantic               0\n",
            "famrel                 0\n",
            "freetime               0\n",
            "goout                  0\n",
            "Dalc                   0\n",
            "Walc                   0\n",
            "health                 0\n",
            "absences               0\n",
            "age_noisy              0\n",
            "age_smoothed           0\n",
            "age_median_filtered    0\n",
            "dtype: int64\n",
            "/n missing values in target:\n",
            "G1    0\n",
            "G2    0\n",
            "G3    0\n",
            "dtype: int64\n",
            "Standardized Data :\n",
            "     school       sex       age   address   famsize   Pstatus      Medu  \\\n",
            "0 -0.730944 -0.833377  1.031695  0.660182 -0.648175 -2.666927  1.310216   \n",
            "1 -0.730944 -0.833377  0.210137  0.660182 -0.648175  0.374963 -1.336039   \n",
            "2 -0.730944 -0.833377 -1.432980  0.660182  1.542792  0.374963 -1.336039   \n",
            "3 -0.730944 -0.833377 -1.432980  0.660182 -0.648175  0.374963  1.310216   \n",
            "4 -0.730944 -0.833377 -0.611422  0.660182 -0.648175  0.374963  0.428131   \n",
            "\n",
            "       Fedu      Mjob      Fjob  ...    famrel  freetime     goout      Dalc  \\\n",
            "0  1.540715 -1.556453  2.057248  ...  0.072606 -0.171647  0.693785 -0.543555   \n",
            "1 -1.188832 -1.556453 -0.260728  ...  1.119748 -0.171647 -0.157380 -0.543555   \n",
            "2 -1.188832 -1.556453 -0.260728  ...  0.072606 -0.171647 -1.008546  0.538553   \n",
            "3 -0.278983 -0.754756  0.898260  ... -0.974536 -1.123771 -1.008546 -0.543555   \n",
            "4  0.630866  0.046941 -0.260728  ...  0.072606 -0.171647 -1.008546 -0.543555   \n",
            "\n",
            "       Walc    health  absences  age_noisy  age_smoothed  age_median_filtered  \n",
            "0 -0.997695 -0.371042  0.073433   0.957656      1.632881             0.027864  \n",
            "1 -0.997695 -0.371042 -0.357863   0.000609      0.814936             0.932084  \n",
            "2  0.560678 -0.371042  0.504730  -0.179881      0.439449             0.027864  \n",
            "3 -0.997695  1.012903 -0.789159   0.558232      0.567122            -0.264813  \n",
            "4 -0.218508  1.012903 -0.789159  -0.501861      0.281319            -0.264813  \n",
            "\n",
            "[5 rows x 33 columns]\n",
            "\n",
            " Normalised Data :\n",
            "   school  sex       age  address  famsize  Pstatus  Medu  Fedu  Mjob  Fjob  \\\n",
            "0     0.0  0.0  0.428571      1.0      0.0      0.0  1.00  1.00  0.00  1.00   \n",
            "1     0.0  0.0  0.285714      1.0      0.0      1.0  0.25  0.25  0.00  0.50   \n",
            "2     0.0  0.0  0.000000      1.0      1.0      1.0  0.25  0.25  0.00  0.50   \n",
            "3     0.0  0.0  0.000000      1.0      0.0      1.0  1.00  0.50  0.25  0.75   \n",
            "4     0.0  0.0  0.142857      1.0      0.0      1.0  0.75  0.75  0.50  0.50   \n",
            "\n",
            "   ...  famrel  freetime  goout  Dalc  Walc  health  absences  age_noisy  \\\n",
            "0  ...    0.75      0.50   0.75  0.00  0.00     0.5    0.1250   0.597404   \n",
            "1  ...    1.00      0.50   0.50  0.00  0.00     0.5    0.0625   0.437412   \n",
            "2  ...    0.75      0.50   0.25  0.25  0.50     0.5    0.1875   0.407239   \n",
            "3  ...    0.50      0.25   0.25  0.00  0.00     1.0    0.0000   0.530631   \n",
            "4  ...    0.75      0.50   0.25  0.00  0.25     1.0    0.0000   0.353413   \n",
            "\n",
            "   age_smoothed  age_median_filtered  \n",
            "0      0.773291             0.533975  \n",
            "1      0.619949             0.703532  \n",
            "2      0.549555             0.533975  \n",
            "3      0.573490             0.479094  \n",
            "4      0.519910             0.479094  \n",
            "\n",
            "[5 rows x 33 columns]\n"
          ]
        }
      ]
    },
    {
      "cell_type": "code",
      "source": [
        "\n",
        "\n",
        "np.random.seed(42)\n",
        "noise = np.random.normal(0, 2, size=len(X['age']))\n",
        "X['age_noisy'] = X['age'] + noise\n",
        "\n",
        "print(\"First 5 rows with noisy 'age':\")\n",
        "print(X[['age', 'age_noisy']].head())\n",
        "\n",
        "\n",
        "\n",
        "\n",
        "\n",
        "from scipy.ndimage import median_filter\n",
        "\n",
        "\n",
        "X['age_median_filtered'] = median_filter(X['age_noisy'], size=5)\n",
        "\n",
        "print(\"First 5 rows with median-filtered 'age':\")\n",
        "print(X[['age_noisy', 'age_median_filtered']].head())\n",
        "\n",
        "\n",
        "\n"
      ],
      "metadata": {
        "colab": {
          "base_uri": "https://localhost:8080/"
        },
        "id": "Yqm9HoZfxGl6",
        "outputId": "b3beb174-f495-49e5-949f-9981b4b5604a"
      },
      "execution_count": 46,
      "outputs": [
        {
          "output_type": "stream",
          "name": "stdout",
          "text": [
            "First 5 rows with noisy 'age':\n",
            "   age  age_noisy\n",
            "0   18  18.993428\n",
            "1   17  16.723471\n",
            "2   15  16.295377\n",
            "3   15  18.046060\n",
            "4   16  15.531693\n",
            "First 5 rows with median-filtered 'age':\n",
            "   age_noisy  age_median_filtered\n",
            "0  18.993428            16.723471\n",
            "1  16.723471            18.046060\n",
            "2  16.295377            16.723471\n",
            "3  18.046060            16.295377\n",
            "4  15.531693            16.295377\n"
          ]
        }
      ]
    },
    {
      "cell_type": "code",
      "source": [
        "#Filter methods\n",
        "\n",
        "correlations = X.corrwith(y)\n",
        "\n",
        "\n",
        "threshold = 0.2\n",
        "selected_features_corr = correlations[abs(correlations) > threshold].index\n",
        "\n",
        "print(\"Features selected by correlation method:\")\n",
        "print(selected_features_corr)"
      ],
      "metadata": {
        "colab": {
          "base_uri": "https://localhost:8080/"
        },
        "id": "d1GXuW-B3kkK",
        "outputId": "15a4471d-fb50-4f82-810a-37d012bce984"
      },
      "execution_count": 32,
      "outputs": [
        {
          "output_type": "stream",
          "name": "stdout",
          "text": [
            "Features selected by correlation method:\n",
            "Index([], dtype='object')\n"
          ]
        }
      ]
    },
    {
      "cell_type": "code",
      "source": [
        "#Wrapper methods\n",
        "from sklearn.feature_selection import RFE\n",
        "from sklearn.linear_model import LinearRegression\n",
        "from sklearn.preprocessing import LabelEncoder\n",
        "\n",
        "\n",
        "label_encoder = LabelEncoder()\n",
        "\n",
        "\n",
        "for col in X.select_dtypes(include=['object']).columns:\n",
        "    X[col] = label_encoder.fit_transform(X[col])\n",
        "\n",
        "\n",
        "estimator = LinearRegression()\n",
        "\n",
        "\n",
        "rfe = RFE(estimator=estimator, n_features_to_select=5)\n",
        "rfe.fit(X, Y)\n",
        "\n",
        "\n",
        "selected_features_rfe = X.columns[rfe.support_]\n",
        "\n",
        "print(\"Features selected by Recursive Feature Elimination:\")\n",
        "print(selected_features_rfe)\n"
      ],
      "metadata": {
        "colab": {
          "base_uri": "https://localhost:8080/"
        },
        "id": "vWFmw_WV6gaa",
        "outputId": "ab14af16-3181-4690-e7bc-29bc946cfaaa"
      },
      "execution_count": 36,
      "outputs": [
        {
          "output_type": "stream",
          "name": "stdout",
          "text": [
            "Features selected by Recursive Feature Elimination:\n",
            "Index(['school', 'sex', 'failures', 'schoolsup', 'higher'], dtype='object')\n"
          ]
        }
      ]
    },
    {
      "cell_type": "code",
      "source": [
        "#Embedded methods\n",
        "\n",
        "from sklearn.linear_model import Lasso\n",
        "from sklearn.model_selection import train_test_split\n",
        "import pandas as pd\n",
        "\n",
        "\n",
        "X_train, X_test, y_train, y_test = train_test_split(X, y, test_size=0.2, random_state=42)\n",
        "\n",
        "scaler = StandardScaler()\n",
        "X_train_scaled = scaler.fit_transform(X_train)\n",
        "X_test_scaled = scaler.transform(X_test)\n",
        "\n",
        "\n",
        "\n",
        "lasso = Lasso(alpha=0.01, random_state=42)\n",
        "lasso.fit(X_train_scaled, y_train)\n",
        "\n",
        "\n",
        "\n",
        "feature_names = X_train.columns\n",
        "\n",
        "\n",
        "n_targets = y_train.shape[1]\n",
        "\n",
        "\n",
        "lasso_coefficients = []\n",
        "for i in range(n_targets):\n",
        "    coef_series = pd.Series(lasso.coef_[i], index=feature_names)\n",
        "    lasso_coefficients.append(coef_series)\n",
        "\n",
        "\n",
        "selected_features_lasso_target1 = lasso_coefficients[0][lasso_coefficients[0] != 0].index\n",
        "\n",
        "print(\"Features selected by Lasso Regression for target 1:\")\n",
        "print(selected_features_lasso_target1)"
      ],
      "metadata": {
        "colab": {
          "base_uri": "https://localhost:8080/"
        },
        "id": "Um7OEBsk7ACi",
        "outputId": "8b4f3bd1-0555-40be-fb81-bfcf7d15955f"
      },
      "execution_count": 42,
      "outputs": [
        {
          "output_type": "stream",
          "name": "stdout",
          "text": [
            "Features selected by Lasso Regression for target 1:\n",
            "Index(['school', 'sex', 'age', 'address', 'famsize', 'Pstatus', 'Medu', 'Fedu',\n",
            "       'Mjob', 'Fjob', 'reason', 'guardian', 'traveltime', 'studytime',\n",
            "       'failures', 'schoolsup', 'famsup', 'paid', 'activities', 'nursery',\n",
            "       'higher', 'internet', 'romantic', 'famrel', 'freetime', 'goout', 'Dalc',\n",
            "       'Walc', 'health', 'absences', 'age_noisy', 'age_smoothed',\n",
            "       'age_median_filtered'],\n",
            "      dtype='object')\n"
          ]
        }
      ]
    }
  ]
}